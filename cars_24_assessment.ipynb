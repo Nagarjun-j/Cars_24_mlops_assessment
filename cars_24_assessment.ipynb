{
 "cells": [
  {
   "cell_type": "markdown",
   "id": "2a6b12df",
   "metadata": {
    "toc": true
   },
   "source": [
    "<h1>Table of Contents<span class=\"tocSkip\"></span></h1>\n",
    "<div class=\"toc\"><ul class=\"toc-item\"><li><span><a href=\"#Import-necessary-libraries\" data-toc-modified-id=\"Import-necessary-libraries-1\"><span class=\"toc-item-num\">1&nbsp;&nbsp;</span>Import necessary libraries</a></span></li><li><span><a href=\"#Load-the-dataset\" data-toc-modified-id=\"Load-the-dataset-2\"><span class=\"toc-item-num\">2&nbsp;&nbsp;</span>Load the dataset</a></span></li><li><span><a href=\"#Training\" data-toc-modified-id=\"Training-3\"><span class=\"toc-item-num\">3&nbsp;&nbsp;</span>Training</a></span></li><li><span><a href=\"#Predictions\" data-toc-modified-id=\"Predictions-4\"><span class=\"toc-item-num\">4&nbsp;&nbsp;</span>Predictions</a></span></li></ul></div>"
   ]
  },
  {
   "cell_type": "markdown",
   "id": "8663c32f",
   "metadata": {},
   "source": [
    "### Import necessary libraries"
   ]
  },
  {
   "cell_type": "code",
   "execution_count": 1,
   "id": "b16240b1",
   "metadata": {},
   "outputs": [],
   "source": [
    "import tensorflow as tf\n",
    "from tensorflow.keras.models import load_model"
   ]
  },
  {
   "cell_type": "markdown",
   "id": "2fe31cce",
   "metadata": {},
   "source": [
    "### Load the dataset"
   ]
  },
  {
   "cell_type": "code",
   "execution_count": 2,
   "id": "c1bc3a78",
   "metadata": {},
   "outputs": [],
   "source": [
    "mnsit_data = tf.keras.datasets.mnist"
   ]
  },
  {
   "cell_type": "markdown",
   "id": "33a16699",
   "metadata": {},
   "source": [
    "### Training "
   ]
  },
  {
   "cell_type": "code",
   "execution_count": 3,
   "id": "e4d14571",
   "metadata": {},
   "outputs": [],
   "source": [
    "#creating a simple model\n",
    "(x_train, y_train), (x_test, y_test) = mnsit_data.load_data()"
   ]
  },
  {
   "cell_type": "code",
   "execution_count": 4,
   "id": "71c22d09",
   "metadata": {},
   "outputs": [],
   "source": [
    "# dividing them to the range of (0-1)\n",
    "x_train, x_test = x_train / 255.0, x_test / 255.0"
   ]
  },
  {
   "cell_type": "code",
   "execution_count": 5,
   "id": "28834629",
   "metadata": {},
   "outputs": [],
   "source": [
    "# Add channel dimension for convolutional layer (reshape images)\n",
    "x_train = x_train.reshape(-1, 28, 28, 1)\n",
    "x_test = x_test.reshape(-1, 28, 28, 1)"
   ]
  },
  {
   "cell_type": "code",
   "execution_count": 6,
   "id": "c060538b",
   "metadata": {},
   "outputs": [],
   "source": [
    "model = tf.keras.models.Sequential([\n",
    "    tf.keras.layers.Conv2D(32, (3, 3), activation='relu', input_shape=(28, 28, 1)),\n",
    "    tf.keras.layers.MaxPooling2D((2, 2)),\n",
    "    tf.keras.layers.Flatten(),\n",
    "    tf.keras.layers.Dense(128, activation='relu'),\n",
    "    tf.keras.layers.Dropout(0.2),\n",
    "    tf.keras.layers.Dense(10, activation='softmax')\n",
    "])\n",
    "\n",
    "model.compile(optimizer='adam',\n",
    "              loss='sparse_categorical_crossentropy',\n",
    "              metrics=['accuracy'])\n"
   ]
  },
  {
   "cell_type": "code",
   "execution_count": 7,
   "id": "e565638c",
   "metadata": {},
   "outputs": [
    {
     "name": "stdout",
     "output_type": "stream",
     "text": [
      "Epoch 1/5\n",
      "1875/1875 [==============================] - 38s 20ms/step - loss: 0.1826 - accuracy: 0.9455 - val_loss: 0.0593 - val_accuracy: 0.9801\n",
      "Epoch 2/5\n",
      "1875/1875 [==============================] - 35s 19ms/step - loss: 0.0658 - accuracy: 0.9796 - val_loss: 0.0463 - val_accuracy: 0.9852\n",
      "Epoch 3/5\n",
      "1875/1875 [==============================] - 36s 19ms/step - loss: 0.0437 - accuracy: 0.9863 - val_loss: 0.0465 - val_accuracy: 0.9840\n",
      "Epoch 4/5\n",
      "1875/1875 [==============================] - 36s 19ms/step - loss: 0.0331 - accuracy: 0.9896 - val_loss: 0.0380 - val_accuracy: 0.9882\n",
      "Epoch 5/5\n",
      "1875/1875 [==============================] - 34s 18ms/step - loss: 0.0251 - accuracy: 0.9919 - val_loss: 0.0449 - val_accuracy: 0.9872\n"
     ]
    },
    {
     "data": {
      "text/plain": [
       "<keras.src.callbacks.History at 0x1c22168c040>"
      ]
     },
     "execution_count": 7,
     "metadata": {},
     "output_type": "execute_result"
    }
   ],
   "source": [
    "model.fit(x_train, y_train, epochs=5, validation_data=(x_test, y_test))"
   ]
  },
  {
   "cell_type": "code",
   "execution_count": 9,
   "id": "ff72ca2a",
   "metadata": {},
   "outputs": [],
   "source": [
    "model.save(\"mnist_model.h5\")"
   ]
  },
  {
   "cell_type": "markdown",
   "id": "4529c491",
   "metadata": {},
   "source": [
    "### Predictions"
   ]
  },
  {
   "cell_type": "code",
   "execution_count": 12,
   "id": "7a702993",
   "metadata": {},
   "outputs": [
    {
     "data": {
      "image/png": "[encoded data removed]",
      "text/plain": [
       "<Figure size 576x288 with 2 Axes>"
      ]
     },
     "metadata": {
      "needs_background": "light"
     },
     "output_type": "display_data"
    },
    {
     "name": "stdout",
     "output_type": "stream",
     "text": [
      "1/1 [==============================] - 0s 54ms/step\n",
      "Predicted Digit: 8\n"
     ]
    }
   ],
   "source": [
    "import cv2\n",
    "import numpy as np\n",
    "import matplotlib.pyplot as plt\n",
    "import tensorflow as tf\n",
    "\n",
    "# Load the saved model\n",
    "model = tf.keras.models.load_model(\"mnist_model.h5\")\n",
    "\n",
    "# Load the image\n",
    "image = cv2.imread(\"handwritten_digit.png\", cv2.IMREAD_GRAYSCALE)\n",
    "\n",
    "# Resize the image to 28x28 (same size as MNIST images)\n",
    "resized_image = cv2.resize(image, (28, 28))\n",
    "\n",
    "# Invert the image (if necessary, depending on how you saved it)\n",
    "inverted_image = cv2.bitwise_not(resized_image)\n",
    "\n",
    "# Normalize pixel values to [0, 1]\n",
    "normalized_image = inverted_image / 255.0\n",
    "\n",
    "# Display the original and preprocessed images\n",
    "plt.figure(figsize=(8, 4))\n",
    "\n",
    "plt.subplot(1, 2, 1)\n",
    "plt.imshow(image, cmap='gray')\n",
    "plt.title('Original Image')\n",
    "plt.axis('off')\n",
    "\n",
    "plt.subplot(1, 2, 2)\n",
    "plt.imshow(normalized_image, cmap='gray')\n",
    "plt.title('Preprocessed Image')\n",
    "plt.axis('off')\n",
    "\n",
    "plt.show()\n",
    "\n",
    "# Reshape the image to match the model input shape and add batch dimension\n",
    "input_image = normalized_image.reshape(1, 28, 28, 1)\n",
    "\n",
    "# Perform prediction\n",
    "prediction = model.predict(input_image)\n",
    "\n",
    "# Get the predicted class (index of the highest probability)\n",
    "predicted_class = np.argmax(prediction)\n",
    "\n",
    "print(\"Predicted Digit:\", predicted_class)\n"
   ]
  },
  {
   "cell_type": "code",
   "execution_count": null,
   "id": "005dc301",
   "metadata": {},
   "outputs": [],
   "source": []
  }
 ],
 "metadata": {
  "kernelspec": {
   "display_name": "Python 3 (ipykernel)",
   "language": "python",
   "name": "python3"
  },
  "language_info": {
   "codemirror_mode": {
    "name": "ipython",
    "version": 3
   },
   "file_extension": ".py",
   "mimetype": "text/x-python",
   "name": "python",
   "nbconvert_exporter": "python",
   "pygments_lexer": "ipython3",
   "version": "3.9.12"
  },
  "toc": {
   "base_numbering": 1,
   "nav_menu": {},
   "number_sections": true,
   "sideBar": true,
   "skip_h1_title": false,
   "title_cell": "Table of Contents",
   "title_sidebar": "Contents",
   "toc_cell": true,
   "toc_position": {},
   "toc_section_display": true,
   "toc_window_display": true
  }
 },
 "nbformat": 4,
 "nbformat_minor": 5
}
